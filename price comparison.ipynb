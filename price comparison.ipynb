{
 "cells": [
  {
   "cell_type": "code",
   "execution_count": 2,
   "id": "c7117541",
   "metadata": {},
   "outputs": [],
   "source": [
    "import requests\n",
    "from bs4 import BeautifulSoup\n",
    "import smtplib, ssl"
   ]
  },
  {
   "cell_type": "code",
   "execution_count": 3,
   "id": "df5ffa0d",
   "metadata": {},
   "outputs": [],
   "source": [
    "url=\"https://www.amazon.in/Apple-iPhone-Mini-256GB-Starlight/dp/B09G9G9C2K/ref=sr_1_1?keywords=APPLE+iPhone+13+%28Starlight%2C+256+GB%29&qid=1666175230&qu=eyJxc2MiOiIxLjU0IiwicXNhIjoiMC4wMCIsInFzcCI6IjAuMDAifQ%3D%3D&sr=8-1\""
   ]
  },
  {
   "cell_type": "code",
   "execution_count": 4,
   "id": "ba75b75a",
   "metadata": {
    "scrolled": false
   },
   "outputs": [
    {
     "name": "stdout",
     "output_type": "stream",
     "text": [
      "<!DOCTYPE html>\n",
      "<!--[if lt IE 7]> <html lang=\"en-us\" class=\"a-no-js a-lt-ie9 a-lt-ie8 a-lt-ie7\"> <![endif]-->\n",
      "<!--[if IE 7]>    <html lang=\"en-us\" class=\"a-no-js a-lt-ie9 a-lt-ie8\"> <![endif]-->\n",
      "<!--[if IE 8]>    <html lang=\"en-us\" class=\"a-no-js a-lt-ie9\"> <![endif]-->\n",
      "<!--[if gt IE 8]><!-->\n",
      "<html class=\"a-no-js\" lang=\"en-us\">\n",
      " <!--<![endif]-->\n",
      " <head>\n",
      "  <meta content=\"text/html; charset=utf-8\" http-equiv=\"content-type\"/>\n",
      "  <meta charset=\"utf-8\"/>\n",
      "  <meta content=\"IE=edge,chrome=1\" http-equiv=\"X-UA-Compatible\"/>\n",
      "  <title dir=\"ltr\">\n",
      "   Amazon.in\n",
      "  </title>\n",
      "  <meta content=\"width=device-width\" name=\"viewport\"/>\n",
      "  <link href=\"https://images-na.ssl-images-amazon.com/images/G/01/AUIClients/AmazonUI-3c913031596ca78a3768f4e934b1cc02ce238101.secure.min._V1_.css\" rel=\"stylesheet\"/>\n",
      "  <script>\n",
      "   if (true === true) {\n",
      "    var ue_t0 = (+ new Date()),\n",
      "        ue_csm = window,\n",
      "        ue = { t0: ue_t0, d: function() { return (+new Date() - ue_t0); } },\n",
      "        ue_furl = \"fls-eu.amazon.in\",\n",
      "        ue_mid = \"A21TJRUUN4KGV\",\n",
      "        ue_sid = (document.cookie.match(/session-id=([0-9-]+)/) || [])[1],\n",
      "        ue_sn = \"opfcaptcha.amazon.in\",\n",
      "        ue_id = '094TVA7E2W1T6G4SYSZM';\n",
      "}\n",
      "  </script>\n",
      " </head>\n",
      " <body>\n",
      "  <!--\n",
      "        To discuss automated access to Amazon data please contact api-services-support@amazon.com.\n",
      "        For information about migrating to our APIs refer to our Marketplace APIs at https://developer.amazonservices.in/ref=rm_c_sv, or our Product Advertising API at https://affiliate-program.amazon.in/gp/advertising/api/detail/main.html/ref=rm_c_ac for advertising use cases.\n",
      "-->\n",
      "  <!--\n",
      "Correios.DoNotSend\n",
      "-->\n",
      "  <div class=\"a-container a-padding-double-large\" style=\"min-width:350px;padding:44px 0 !important\">\n",
      "   <div class=\"a-row a-spacing-double-large\" style=\"width: 350px; margin: 0 auto\">\n",
      "    <div class=\"a-row a-spacing-medium a-text-center\">\n",
      "     <i class=\"a-icon a-logo\">\n",
      "     </i>\n",
      "    </div>\n",
      "    <div class=\"a-box a-alert a-alert-info a-spacing-base\">\n",
      "     <div class=\"a-box-inner\">\n",
      "      <i class=\"a-icon a-icon-alert\">\n",
      "      </i>\n",
      "      <h4>\n",
      "       Enter the characters you see below\n",
      "      </h4>\n",
      "      <p class=\"a-last\">\n",
      "       Sorry, we just need to make sure you're not a robot. For best results, please make sure your browser is accepting cookies.\n",
      "      </p>\n",
      "     </div>\n",
      "    </div>\n",
      "    <div class=\"a-section\">\n",
      "     <div class=\"a-box a-color-offset-background\">\n",
      "      <div class=\"a-box-inner a-padding-extra-large\">\n",
      "       <form action=\"/errors/validateCaptcha\" method=\"get\" name=\"\">\n",
      "        <input name=\"amzn\" type=\"hidden\" value=\"oEcv/fnzukKkKF2Lsn6poQ==\"/>\n",
      "        <input name=\"amzn-r\" type=\"hidden\" value=\"/Apple-iPhone-Mini-256GB-Starlight/dp/B09G9G9C2K\"/>\n",
      "        <div class=\"a-row a-spacing-large\">\n",
      "         <div class=\"a-box\">\n",
      "          <div class=\"a-box-inner\">\n",
      "           <h4>\n",
      "            Type the characters you see in this image:\n",
      "           </h4>\n",
      "           <!-- For automated access to price change or offer listing change events,\n",
      "                                             please refer to the MWS Subscription API:\n",
      "                                             https://developer.amazonservices.in/gp/mws/api.html/276-5247872-0590350?ie=UTF8&section=subscriptions&group=subscriptions&version=latest\n",
      "                                        -->\n",
      "           <div class=\"a-row a-text-center\">\n",
      "            <img src=\"https://images-na.ssl-images-amazon.com/captcha/perumqgc/Captcha_aobcdiqobb.jpg\"/>\n",
      "           </div>\n",
      "           <div class=\"a-row a-spacing-base\">\n",
      "            <div class=\"a-row\">\n",
      "             <div class=\"a-column a-span6\">\n",
      "             </div>\n",
      "             <div class=\"a-column a-span6 a-span-last a-text-right\">\n",
      "              <a onclick=\"window.location.reload()\">\n",
      "               Try different image\n",
      "              </a>\n",
      "             </div>\n",
      "            </div>\n",
      "            <input autocapitalize=\"off\" autocomplete=\"off\" autocorrect=\"off\" class=\"a-span12\" id=\"captchacharacters\" name=\"field-keywords\" placeholder=\"Type characters\" spellcheck=\"false\" type=\"text\"/>\n",
      "           </div>\n",
      "          </div>\n",
      "         </div>\n",
      "        </div>\n",
      "        <div class=\"a-section a-spacing-extra-large\">\n",
      "         <div class=\"a-row\">\n",
      "          <span class=\"a-button a-button-primary a-span12\">\n",
      "           <span class=\"a-button-inner\">\n",
      "            <button class=\"a-button-text\" type=\"submit\">\n",
      "             Continue shopping\n",
      "            </button>\n",
      "           </span>\n",
      "          </span>\n",
      "         </div>\n",
      "        </div>\n",
      "       </form>\n",
      "      </div>\n",
      "     </div>\n",
      "    </div>\n",
      "   </div>\n",
      "   <div class=\"a-divider a-divider-section\">\n",
      "    <div class=\"a-divider-inner\">\n",
      "    </div>\n",
      "   </div>\n",
      "   <div class=\"a-text-center a-spacing-small a-size-mini\">\n",
      "    <a href=\"https://www.amazon.in/gp/help/customer/display.html/ref=footer_cou?ie=UTF8&amp;nodeId=200545940\">\n",
      "     Conditions of Use &amp; Sale\n",
      "    </a>\n",
      "    <span class=\"a-letter-space\">\n",
      "    </span>\n",
      "    <span class=\"a-letter-space\">\n",
      "    </span>\n",
      "    <span class=\"a-letter-space\">\n",
      "    </span>\n",
      "    <span class=\"a-letter-space\">\n",
      "    </span>\n",
      "    <a href=\"https://www.amazon.in/gp/help/customer/display.html/ref=footer_privacy?ie=UTF8&amp;nodeId=200534380\">\n",
      "     Privacy Notice\n",
      "    </a>\n",
      "   </div>\n",
      "   <div class=\"a-text-center a-size-mini a-color-secondary\">\n",
      "    © 1996-2015, Amazon.com, Inc. or its affiliates\n",
      "    <script>\n",
      "     if (true === true) {\n",
      "             document.write('<img src=\"https://fls-eu.amaz'+'on.in/'+'1/oc-csi/1/OP/requestId=094TVA7E2W1T6G4SYSZM&js=1\" />');\n",
      "           };\n",
      "    </script>\n",
      "    <noscript>\n",
      "     <img src=\"https://fls-eu.amazon.in/1/oc-csi/1/OP/requestId=094TVA7E2W1T6G4SYSZM&amp;js=0\">\n",
      "     </img>\n",
      "    </noscript>\n",
      "   </div>\n",
      "  </div>\n",
      "  <script>\n",
      "   if (true === true) {\n",
      "        var head = document.getElementsByTagName('head')[0],\n",
      "            prefix = \"https://images-eu.ssl-images-amazon.com/images/G/01/csminstrumentation/\",\n",
      "            elem = document.createElement(\"script\");\n",
      "        elem.src = prefix + \"csm-captcha-instrumentation.min.js\";\n",
      "        head.appendChild(elem);\n",
      "\n",
      "        elem = document.createElement(\"script\");\n",
      "        elem.src = prefix + \"rd-script-6d68177fa6061598e9509dc4b5bdd08d.js\";\n",
      "        head.appendChild(elem);\n",
      "    }\n",
      "  </script>\n",
      " </body>\n",
      "</html>\n",
      "\n"
     ]
    }
   ],
   "source": [
    "page=requests.get(url)\n",
    "soup=BeautifulSoup(page.content,\"html.parser\")\n",
    "print(soup.prettify())"
   ]
  },
  {
   "cell_type": "code",
   "execution_count": 5,
   "id": "7456fa32",
   "metadata": {},
   "outputs": [
    {
     "name": "stdout",
     "output_type": "stream",
     "text": [
      "<title>Apple iPhone 13 Mini (256GB) - Starlight : Amazon.in: Electronics</title>\n"
     ]
    }
   ],
   "source": [
    "print(soup.title)"
   ]
  },
  {
   "cell_type": "code",
   "execution_count": 9,
   "id": "c4044d8e",
   "metadata": {},
   "outputs": [
    {
     "name": "stdout",
     "output_type": "stream",
     "text": [
      "Apple iPhone 13 Mini (256GB) - Starlight\n"
     ]
    }
   ],
   "source": [
    "a=soup.find(id=\"productTitle\")\n",
    "b=a.get_text()\n",
    "print(b.strip())"
   ]
  },
  {
   "cell_type": "code",
   "execution_count": 10,
   "id": "8b6fb6ac",
   "metadata": {},
   "outputs": [
    {
     "data": {
      "text/plain": [
       "'68,990.'"
      ]
     },
     "execution_count": 10,
     "metadata": {},
     "output_type": "execute_result"
    }
   ],
   "source": [
    "price=soup.find(class_=\"a-price-whole\")\n",
    "price.get_text()"
   ]
  },
  {
   "cell_type": "code",
   "execution_count": 11,
   "id": "4098dc8f",
   "metadata": {},
   "outputs": [],
   "source": [
    "cp=price.get_text()"
   ]
  },
  {
   "cell_type": "code",
   "execution_count": 12,
   "id": "cea462ef",
   "metadata": {},
   "outputs": [
    {
     "data": {
      "text/plain": [
       "'68,990'"
      ]
     },
     "execution_count": 12,
     "metadata": {},
     "output_type": "execute_result"
    }
   ],
   "source": [
    "a=cp[0:6]\n",
    "a"
   ]
  },
  {
   "cell_type": "code",
   "execution_count": 13,
   "id": "05ab505c",
   "metadata": {},
   "outputs": [],
   "source": [
    "res=requests.get(\"https://www.flipkart.com/apple-iphone-13-starlight-256-gb/p/itm37b8de852304e\")"
   ]
  },
  {
   "cell_type": "code",
   "execution_count": 14,
   "id": "9c60eae5",
   "metadata": {},
   "outputs": [],
   "source": [
    "soup = BeautifulSoup(res.text,\"lxml\")"
   ]
  },
  {
   "cell_type": "code",
   "execution_count": 15,
   "id": "fa17f65d",
   "metadata": {},
   "outputs": [
    {
     "name": "stdout",
     "output_type": "stream",
     "text": [
      "<title>APPLE iPhone 13 ( 256 GB GB Storage, 0 GB RAM ) Online at Best Price On Flipkart.com</title>\n"
     ]
    }
   ],
   "source": [
    "print(soup.title)"
   ]
  },
  {
   "cell_type": "code",
   "execution_count": 16,
   "id": "f8a113f5",
   "metadata": {},
   "outputs": [],
   "source": [
    "price=soup.find(class_=\"_30jeq3 _16Jk6d\")"
   ]
  },
  {
   "cell_type": "code",
   "execution_count": 17,
   "id": "14e44d77",
   "metadata": {},
   "outputs": [
    {
     "data": {
      "text/plain": [
       "'₹67,990'"
      ]
     },
     "execution_count": 17,
     "metadata": {},
     "output_type": "execute_result"
    }
   ],
   "source": [
    "price.get_text()"
   ]
  },
  {
   "cell_type": "code",
   "execution_count": 18,
   "id": "d284aab1",
   "metadata": {},
   "outputs": [
    {
     "data": {
      "text/plain": [
       "'67,990'"
      ]
     },
     "execution_count": 18,
     "metadata": {},
     "output_type": "execute_result"
    }
   ],
   "source": [
    "cp=price.get_text()\n",
    "f=cp[1:7]\n",
    "f"
   ]
  },
  {
   "cell_type": "code",
   "execution_count": 19,
   "id": "a6944c71",
   "metadata": {},
   "outputs": [
    {
     "name": "stdout",
     "output_type": "stream",
     "text": [
      "67,990\n",
      "Flipkart\n"
     ]
    }
   ],
   "source": [
    "price=0\n",
    "company=\" \"\n",
    "if a<f:\n",
    "    price=a\n",
    "    company=\"Amazon\"\n",
    "else:\n",
    "    price=f\n",
    "    company=\"Flipkart\"\n",
    "    \n",
    "print(price)\n",
    "print(company)"
   ]
  },
  {
   "cell_type": "code",
   "execution_count": 43,
   "id": "8224e0b6",
   "metadata": {},
   "outputs": [],
   "source": [
    "def send_mail():\n",
    "    \n",
    "    server = smtplib.SMTP('smtp.gmail.com', 587)\n",
    "    server.ehlo()\n",
    "    server.starttls()\n",
    "    server.ehlo()\n",
    "    server.login(\"hardik.kas77@gmail.com\",\"kuegqllpveaxwdoz\")\n",
    "    subject=\"price fall down\"\n",
    "    if company == \"Flipkart\":\n",
    "        body=\"Check the Flipkart link: https://www.flipkart.com/apple-iphone-13-starlight-256-gb/p/itm37b8de852304e\"\n",
    "        msg=f\"Subject:{subject}\\n\\n{body}\"\n",
    "        server.sendmail(\n",
    "            \"om.patkar99@gmail.com\",\n",
    "            \"manali.p92@gmail.com\",\n",
    "            msg\n",
    "            )\n",
    "        print(\"Mail send\")\n",
    "        server.quit()\n",
    "        \n",
    "    else:\n",
    "        body=\"check the Amazon link: https://www.amazon.in/Apple-iPhone-Mini-256GB-Starlight/dp/B09G9G9C2K/ref=sr_1_1?keywords=APPLE+iPhone+13+%28Starlight%2C+256+GB%29&qid=1666175230&qu=eyJxc2MiOiIxLjU0IiwicXNhIjoiMC4wMCIsInFzcCI6IjAuMDAifQ%3D%3D&sr=8-1\"\n",
    "        msg=f\"Subject:{subject}\\n\\n{body}\"\n",
    "        server.sendmail(\n",
    "            \"om.patkar99@gmail.com\",\n",
    "            \"manali.p92@gmail.com\",\n",
    "            msg\n",
    "            )\n",
    "        print(\"Mail send\")\n",
    "        server.quit()"
   ]
  },
  {
   "cell_type": "code",
   "execution_count": 44,
   "id": "c1c5503a",
   "metadata": {},
   "outputs": [
    {
     "name": "stdout",
     "output_type": "stream",
     "text": [
      "Mail send\n"
     ]
    }
   ],
   "source": [
    "send_mail()"
   ]
  },
  {
   "cell_type": "code",
   "execution_count": null,
   "id": "7790d82d",
   "metadata": {},
   "outputs": [],
   "source": [
    "kuegqllpveaxwdoz"
   ]
  }
 ],
 "metadata": {
  "kernelspec": {
   "display_name": "Python 3",
   "language": "python",
   "name": "python3"
  },
  "language_info": {
   "codemirror_mode": {
    "name": "ipython",
    "version": 3
   },
   "file_extension": ".py",
   "mimetype": "text/x-python",
   "name": "python",
   "nbconvert_exporter": "python",
   "pygments_lexer": "ipython3",
   "version": "3.8.8"
  }
 },
 "nbformat": 4,
 "nbformat_minor": 5
}
